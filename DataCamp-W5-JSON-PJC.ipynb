{
 "cells": [
  {
   "cell_type": "code",
   "execution_count": 19,
   "metadata": {},
   "outputs": [],
   "source": [
    "import pandas as pd\n",
    "import json\n",
    "import numpy as np\n",
    "from pandas.io.json import json_normalize\n"
   ]
  },
  {
   "cell_type": "code",
   "execution_count": 21,
   "metadata": {
    "collapsed": true
   },
   "outputs": [],
   "source": [
    "\n",
    "#create dataframe\n",
    "df = pd.read_json('world_bank_projects.json')"
   ]
  },
  {
   "cell_type": "code",
   "execution_count": 21,
   "metadata": {},
   "outputs": [
    {
     "name": "stdout",
     "output_type": "stream",
     "text": [
      "                                    _id approvalfy board_approval_month  \\\n",
      "0  {'$oid': '52b213b38594d8a2be17c780'}       1999             November   \n",
      "1  {'$oid': '52b213b38594d8a2be17c781'}       2015             November   \n",
      "2  {'$oid': '52b213b38594d8a2be17c782'}       2014             November   \n",
      "3  {'$oid': '52b213b38594d8a2be17c783'}       2014              October   \n",
      "4  {'$oid': '52b213b38594d8a2be17c784'}       2014              October   \n",
      "\n",
      "      boardapprovaldate                                 borrower  \\\n",
      "0  2013-11-12T00:00:00Z  FEDERAL DEMOCRATIC REPUBLIC OF ETHIOPIA   \n",
      "1  2013-11-04T00:00:00Z                    GOVERNMENT OF TUNISIA   \n",
      "2  2013-11-01T00:00:00Z   MINISTRY OF FINANCE AND ECONOMIC DEVEL   \n",
      "3  2013-10-31T00:00:00Z   MIN. OF PLANNING AND INT'L COOPERATION   \n",
      "4  2013-10-31T00:00:00Z                      MINISTRY OF FINANCE   \n",
      "\n",
      "            closingdate                              country_namecode  \\\n",
      "0  2018-07-07T00:00:00Z  Federal Democratic Republic of Ethiopia!$!ET   \n",
      "1                   NaN                      Republic of Tunisia!$!TN   \n",
      "2                   NaN                                   Tuvalu!$!TV   \n",
      "3                   NaN                        Republic of Yemen!$!RY   \n",
      "4  2019-04-30T00:00:00Z                       Kingdom of Lesotho!$!LS   \n",
      "\n",
      "  countrycode                              countryname    countryshortname  \\\n",
      "0          ET  Federal Democratic Republic of Ethiopia            Ethiopia   \n",
      "1          TN                      Republic of Tunisia             Tunisia   \n",
      "2          TV                                   Tuvalu              Tuvalu   \n",
      "3          RY                        Republic of Yemen  Yemen, Republic of   \n",
      "4          LS                       Kingdom of Lesotho             Lesotho   \n",
      "\n",
      "                         ...                           sectorcode source  \\\n",
      "0                        ...                          ET,BS,ES,EP   IBRD   \n",
      "1                        ...                                BZ,BS   IBRD   \n",
      "2                        ...                                   TI   IBRD   \n",
      "3                        ...                                   JB   IBRD   \n",
      "4                        ...                             FH,YW,YZ   IBRD   \n",
      "\n",
      "   status  supplementprojectflg  \\\n",
      "0  Active                     N   \n",
      "1  Active                     N   \n",
      "2  Active                     Y   \n",
      "3  Active                     N   \n",
      "4  Active                     N   \n",
      "\n",
      "                                              theme1  \\\n",
      "0      {'Percent': 100, 'Name': 'Education for all'}   \n",
      "1  {'Percent': 30, 'Name': 'Other economic manage...   \n",
      "2    {'Percent': 46, 'Name': 'Regional integration'}   \n",
      "3  {'Percent': 50, 'Name': 'Participation and civ...   \n",
      "4  {'Percent': 30, 'Name': 'Export development an...   \n",
      "\n",
      "                                      theme_namecode    themecode   totalamt  \\\n",
      "0      [{'code': '65', 'name': 'Education for all'}]           65  130000000   \n",
      "1  [{'code': '24', 'name': 'Other economic manage...        54,24          0   \n",
      "2  [{'code': '47', 'name': 'Regional integration'...  52,81,25,47    6060000   \n",
      "3  [{'code': '57', 'name': 'Participation and civ...        59,57          0   \n",
      "4  [{'code': '45', 'name': 'Export development an...        41,45   13100000   \n",
      "\n",
      "  totalcommamt                                                url  \n",
      "0    130000000  http://www.worldbank.org/projects/P129828/ethi...  \n",
      "1      4700000  http://www.worldbank.org/projects/P144674?lang=en  \n",
      "2      6060000  http://www.worldbank.org/projects/P145310?lang=en  \n",
      "3      1500000  http://www.worldbank.org/projects/P144665?lang=en  \n",
      "4     13100000  http://www.worldbank.org/projects/P144933/seco...  \n",
      "\n",
      "[5 rows x 50 columns]\n"
     ]
    }
   ],
   "source": [
    "print(df.head())"
   ]
  },
  {
   "cell_type": "code",
   "execution_count": 22,
   "metadata": {},
   "outputs": [
    {
     "name": "stdout",
     "output_type": "stream",
     "text": [
      "Index(['_id', 'approvalfy', 'board_approval_month', 'boardapprovaldate',\n",
      "       'borrower', 'closingdate', 'country_namecode', 'countrycode',\n",
      "       'countryname', 'countryshortname', 'docty', 'envassesmentcategorycode',\n",
      "       'grantamt', 'ibrdcommamt', 'id', 'idacommamt', 'impagency',\n",
      "       'lendinginstr', 'lendinginstrtype', 'lendprojectcost',\n",
      "       'majorsector_percent', 'mjsector_namecode', 'mjtheme',\n",
      "       'mjtheme_namecode', 'mjthemecode', 'prodline', 'prodlinetext',\n",
      "       'productlinetype', 'project_abstract', 'project_name', 'projectdocs',\n",
      "       'projectfinancialtype', 'projectstatusdisplay', 'regionname', 'sector',\n",
      "       'sector1', 'sector2', 'sector3', 'sector4', 'sector_namecode',\n",
      "       'sectorcode', 'source', 'status', 'supplementprojectflg', 'theme1',\n",
      "       'theme_namecode', 'themecode', 'totalamt', 'totalcommamt', 'url'],\n",
      "      dtype='object')\n"
     ]
    },
    {
     "data": {
      "text/plain": [
       "China                 19\n",
       "Indonesia             19\n",
       "Vietnam               17\n",
       "India                 16\n",
       "Yemen, Republic of    13\n",
       "Morocco               12\n",
       "Nepal                 12\n",
       "Bangladesh            12\n",
       "Africa                11\n",
       "Mozambique            11\n",
       "Name: countryshortname, dtype: int64"
      ]
     },
     "execution_count": 22,
     "metadata": {},
     "output_type": "execute_result"
    }
   ],
   "source": [
    "print(df.columns)\n",
    "df.countryshortname.value_counts().head(10)"
   ]
  },
  {
   "cell_type": "code",
   "execution_count": 23,
   "metadata": {},
   "outputs": [],
   "source": [
    "#--------------------------------------------------------------------------\n",
    "#Find the most common project theme useing 'mjtheme_namecode'"
   ]
  },
  {
   "cell_type": "code",
   "execution_count": 39,
   "metadata": {},
   "outputs": [
    {
     "data": {
      "text/plain": [
       "Environment and natural resources management    223\n",
       "Rural development                               202\n",
       "Human development                               197\n",
       "Public sector governance                        184\n",
       "Social protection and risk management           158\n",
       "Financial and private sector development        130\n",
       "                                                122\n",
       "Social dev/gender/inclusion                     119\n",
       "Trade and integration                            72\n",
       "Urban development                                47\n",
       "Economic management                              33\n",
       "Name: name, dtype: int64"
      ]
     },
     "execution_count": 39,
     "metadata": {},
     "output_type": "execute_result"
    }
   ],
   "source": [
    "#Create a data frame to calculate theme by normalize json\n",
    "themes = pd.DataFrame(columns=['code', 'name'])\n",
    "for theme in df['mjtheme_namecode']: \n",
    "    themes = themes.append(json_normalize(theme))\n",
    "\n",
    "themes['name'].value_counts().head(10)\n",
    "'''have a missing value and therefore need to bring in the 11th theme'''\n",
    "themes['name'].value_counts().head(11)"
   ]
  },
  {
   "cell_type": "code",
   "execution_count": 27,
   "metadata": {},
   "outputs": [],
   "source": [
    "#--------------------------------------------------------------------------\n",
    "# In 2. above you will notice that some entries have only the code and the name is missing. \n",
    "# Create a dataframe with the missing names filled in.\n"
   ]
  },
  {
   "cell_type": "code",
   "execution_count": 40,
   "metadata": {},
   "outputs": [],
   "source": [
    "#initialize dictionary\n",
    "dictionary = {}\n",
    "i=0\n",
    "#reset index\n",
    "themes.reset_index(inplace=True)\n",
    "# for every row in the themes dataframe, add the value to dictionary if theme name is not blank\n",
    "for i in range(len(themes)): \n",
    "    if themes.loc[i, 'name'] != '':\n",
    "        dictionary[themes.loc[i, 'code']] = themes.loc[i, 'name']"
   ]
  },
  {
   "cell_type": "code",
   "execution_count": 41,
   "metadata": {},
   "outputs": [
    {
     "name": "stdout",
     "output_type": "stream",
     "text": [
      "{'8': 'Human development', '1': 'Economic management', '6': 'Social protection and risk management', '5': 'Trade and integration', '2': 'Public sector governance', '11': 'Environment and natural resources management', '7': 'Social dev/gender/inclusion', '4': 'Financial and private sector development', '10': 'Rural development', '9': 'Urban development', '3': 'Rule of law'}\n"
     ]
    }
   ],
   "source": [
    "print(dictionary)"
   ]
  },
  {
   "cell_type": "code",
   "execution_count": 48,
   "metadata": {},
   "outputs": [],
   "source": [
    "#Loop through every row in the dataframe, and backfill na values\n",
    "j = 0 \n",
    "for j in range(len(themes)):\n",
    "    if themes.loc[j, 'name'] == '':\n",
    "        themes.loc[j, 'name'] = dictionary[themes.loc[j, 'code']]\n"
   ]
  },
  {
   "cell_type": "code",
   "execution_count": 49,
   "metadata": {},
   "outputs": [
    {
     "data": {
      "text/plain": [
       "Environment and natural resources management    250\n",
       "Rural development                               216\n",
       "Human development                               210\n",
       "Public sector governance                        199\n",
       "Social protection and risk management           168\n",
       "Financial and private sector development        146\n",
       "Social dev/gender/inclusion                     130\n",
       "Trade and integration                            77\n",
       "Urban development                                50\n",
       "Economic management                              38\n",
       "Rule of law                                      15\n",
       "Name: name, dtype: int64"
      ]
     },
     "execution_count": 49,
     "metadata": {},
     "output_type": "execute_result"
    }
   ],
   "source": [
    "#Find the most frequent theme name\n",
    "themes['name'].value_counts().head(11)"
   ]
  },
  {
   "cell_type": "code",
   "execution_count": null,
   "metadata": {
    "collapsed": true
   },
   "outputs": [],
   "source": []
  }
 ],
 "metadata": {
  "kernelspec": {
   "display_name": "Python 3",
   "language": "python",
   "name": "python3"
  },
  "language_info": {
   "codemirror_mode": {
    "name": "ipython",
    "version": 3
   },
   "file_extension": ".py",
   "mimetype": "text/x-python",
   "name": "python",
   "nbconvert_exporter": "python",
   "pygments_lexer": "ipython3",
   "version": "3.6.3"
  }
 },
 "nbformat": 4,
 "nbformat_minor": 2
}
